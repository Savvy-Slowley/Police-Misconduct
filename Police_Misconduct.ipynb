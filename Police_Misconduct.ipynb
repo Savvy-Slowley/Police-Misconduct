{
  "nbformat": 4,
  "nbformat_minor": 0,
  "metadata": {
    "colab": {
      "name": "Police Misconduct.ipynb",
      "provenance": [],
      "authorship_tag": "ABX9TyPHI548lvsESgwKetuhhgMX",
      "include_colab_link": true
    },
    "kernelspec": {
      "name": "python3",
      "display_name": "Python 3"
    },
    "language_info": {
      "name": "python"
    }
  },
  "cells": [
    {
      "cell_type": "markdown",
      "metadata": {
        "id": "view-in-github",
        "colab_type": "text"
      },
      "source": [
        "<a href=\"https://colab.research.google.com/github/Savvy-Slowley/Police-Misconduct/blob/main/Police_Misconduct.ipynb\" target=\"_parent\"><img src=\"https://colab.research.google.com/assets/colab-badge.svg\" alt=\"Open In Colab\"/></a>"
      ]
    },
    {
      "cell_type": "markdown",
      "metadata": {
        "id": "7GeEQlj-3jBp"
      },
      "source": [
        "# Import"
      ]
    },
    {
      "cell_type": "code",
      "metadata": {
        "id": "ifee2x4Si-QH"
      },
      "source": [
        "import pandas as pd\n",
        "import matplotlib.pyplot as plt\n",
        "import seaborn as sns\n",
        "# SQL\n",
        "from sqlalchemy import create_engine"
      ],
      "execution_count": 1,
      "outputs": []
    },
    {
      "cell_type": "markdown",
      "metadata": {
        "id": "xu5d0AKE4ANW"
      },
      "source": [
        "# New York City Data Cleaning"
      ]
    },
    {
      "cell_type": "code",
      "metadata": {
        "colab": {
          "base_uri": "https://localhost:8080/",
          "height": 548
        },
        "id": "90THn4B-jCFc",
        "outputId": "c61ee4cb-e190-456d-a7e6-bf22f84a88ad"
      },
      "source": [
        "nyc = pd.read_csv('/content/New York Police Misconduct Settlements.csv')\n",
        "nyc.head()"
      ],
      "execution_count": 2,
      "outputs": [
        {
          "output_type": "execute_result",
          "data": {
            "text/html": [
              "<div>\n",
              "<style scoped>\n",
              "    .dataframe tbody tr th:only-of-type {\n",
              "        vertical-align: middle;\n",
              "    }\n",
              "\n",
              "    .dataframe tbody tr th {\n",
              "        vertical-align: top;\n",
              "    }\n",
              "\n",
              "    .dataframe thead th {\n",
              "        text-align: right;\n",
              "    }\n",
              "</style>\n",
              "<table border=\"1\" class=\"dataframe\">\n",
              "  <thead>\n",
              "    <tr style=\"text-align: right;\">\n",
              "      <th></th>\n",
              "      <th>plaintiff_name</th>\n",
              "      <th>claim_number</th>\n",
              "      <th>summary_allegations</th>\n",
              "      <th>incident_date</th>\n",
              "      <th>filed_date</th>\n",
              "      <th>plaintiff_attorney</th>\n",
              "      <th>closed_date</th>\n",
              "      <th>amount_awarded</th>\n",
              "      <th>location</th>\n",
              "      <th>calendar_year</th>\n",
              "      <th>incident_year</th>\n",
              "      <th>filed_year</th>\n",
              "      <th>city</th>\n",
              "      <th>state</th>\n",
              "      <th>other_expenses</th>\n",
              "      <th>collection</th>\n",
              "      <th>total_incurred</th>\n",
              "      <th>court</th>\n",
              "      <th>docket_number</th>\n",
              "      <th>matter_name</th>\n",
              "      <th>case_outcome</th>\n",
              "    </tr>\n",
              "  </thead>\n",
              "  <tbody>\n",
              "    <tr>\n",
              "      <th>0</th>\n",
              "      <td>Kathy Batka</td>\n",
              "      <td>2009PI023313</td>\n",
              "      <td>CIVIL RIGHTS CLAIMS</td>\n",
              "      <td>2008-07-26</td>\n",
              "      <td>2009-08-24</td>\n",
              "      <td>Matthew Flamm</td>\n",
              "      <td>2010-01-04 00:00:00</td>\n",
              "      <td>5000.0</td>\n",
              "      <td>7 AV &amp; 33 ST &amp; 34 ST, MANHATTAN (NEW YORK)</td>\n",
              "      <td>2010</td>\n",
              "      <td>2008.0</td>\n",
              "      <td>2009</td>\n",
              "      <td>New York City</td>\n",
              "      <td>NY</td>\n",
              "      <td>NaN</td>\n",
              "      <td>NaN</td>\n",
              "      <td>NaN</td>\n",
              "      <td>NaN</td>\n",
              "      <td>NaN</td>\n",
              "      <td>NaN</td>\n",
              "      <td>NaN</td>\n",
              "    </tr>\n",
              "    <tr>\n",
              "      <th>1</th>\n",
              "      <td>Ingrid Conway</td>\n",
              "      <td>2009PI014930</td>\n",
              "      <td>PEACE OFFICER/POLICE ACTION (PI)</td>\n",
              "      <td>2009-05-01</td>\n",
              "      <td>2009-06-12</td>\n",
              "      <td>Richard J Cardinale</td>\n",
              "      <td>2010-01-04 00:00:00</td>\n",
              "      <td>15000.0</td>\n",
              "      <td>111 BRIDGE ST, BROOKLYN (KINGS)</td>\n",
              "      <td>2010</td>\n",
              "      <td>2009.0</td>\n",
              "      <td>2009</td>\n",
              "      <td>New York City</td>\n",
              "      <td>NY</td>\n",
              "      <td>NaN</td>\n",
              "      <td>NaN</td>\n",
              "      <td>NaN</td>\n",
              "      <td>NaN</td>\n",
              "      <td>NaN</td>\n",
              "      <td>NaN</td>\n",
              "      <td>NaN</td>\n",
              "    </tr>\n",
              "    <tr>\n",
              "      <th>2</th>\n",
              "      <td>Melvin Rennock</td>\n",
              "      <td>2009PI000487</td>\n",
              "      <td>CIVIL RIGHTS CLAIMS</td>\n",
              "      <td>2005-09-05</td>\n",
              "      <td>2008-11-06</td>\n",
              "      <td>Anthony C Ofodile</td>\n",
              "      <td>2010-01-04 00:00:00</td>\n",
              "      <td>17500.0</td>\n",
              "      <td>Precise location missing, BROOKLYN (KINGS)</td>\n",
              "      <td>2010</td>\n",
              "      <td>2005.0</td>\n",
              "      <td>2008</td>\n",
              "      <td>New York City</td>\n",
              "      <td>NY</td>\n",
              "      <td>NaN</td>\n",
              "      <td>NaN</td>\n",
              "      <td>NaN</td>\n",
              "      <td>NaN</td>\n",
              "      <td>NaN</td>\n",
              "      <td>NaN</td>\n",
              "      <td>NaN</td>\n",
              "    </tr>\n",
              "    <tr>\n",
              "      <th>3</th>\n",
              "      <td>Peter Mcenaney</td>\n",
              "      <td>2008PI024680</td>\n",
              "      <td>CIVIL RIGHTS CLAIMS</td>\n",
              "      <td>2007-12-31</td>\n",
              "      <td>2008-09-18</td>\n",
              "      <td>Richard Cardinale</td>\n",
              "      <td>2010-01-04 00:00:00</td>\n",
              "      <td>11000.0</td>\n",
              "      <td>Precise location missing, BROOKLYN (KINGS)</td>\n",
              "      <td>2010</td>\n",
              "      <td>2007.0</td>\n",
              "      <td>2008</td>\n",
              "      <td>New York City</td>\n",
              "      <td>NY</td>\n",
              "      <td>NaN</td>\n",
              "      <td>NaN</td>\n",
              "      <td>NaN</td>\n",
              "      <td>NaN</td>\n",
              "      <td>NaN</td>\n",
              "      <td>NaN</td>\n",
              "      <td>NaN</td>\n",
              "    </tr>\n",
              "    <tr>\n",
              "      <th>4</th>\n",
              "      <td>Hector Galvez</td>\n",
              "      <td>2008PI022264</td>\n",
              "      <td>PEACE OFFICER/POLICE ACTION (PI)</td>\n",
              "      <td>2008-08-23</td>\n",
              "      <td>2008-09-18</td>\n",
              "      <td>Rosenberg Minc Falkoff &amp; Wolff</td>\n",
              "      <td>2010-01-04 00:00:00</td>\n",
              "      <td>25000.0</td>\n",
              "      <td>444 E 119 ST, MANHATTAN (NEW YORK)</td>\n",
              "      <td>2010</td>\n",
              "      <td>2008.0</td>\n",
              "      <td>2008</td>\n",
              "      <td>New York City</td>\n",
              "      <td>NY</td>\n",
              "      <td>NaN</td>\n",
              "      <td>NaN</td>\n",
              "      <td>NaN</td>\n",
              "      <td>NaN</td>\n",
              "      <td>NaN</td>\n",
              "      <td>NaN</td>\n",
              "      <td>NaN</td>\n",
              "    </tr>\n",
              "  </tbody>\n",
              "</table>\n",
              "</div>"
            ],
            "text/plain": [
              "   plaintiff_name  claim_number  ... matter_name case_outcome\n",
              "0     Kathy Batka  2009PI023313  ...         NaN          NaN\n",
              "1   Ingrid Conway  2009PI014930  ...         NaN          NaN\n",
              "2  Melvin Rennock  2009PI000487  ...         NaN          NaN\n",
              "3  Peter Mcenaney  2008PI024680  ...         NaN          NaN\n",
              "4   Hector Galvez  2008PI022264  ...         NaN          NaN\n",
              "\n",
              "[5 rows x 21 columns]"
            ]
          },
          "metadata": {},
          "execution_count": 2
        }
      ]
    },
    {
      "cell_type": "code",
      "metadata": {
        "colab": {
          "base_uri": "https://localhost:8080/"
        },
        "id": "B-QJAZguspOk",
        "outputId": "2eb75227-b2dc-44f1-f17d-fc1f9855b87c"
      },
      "source": [
        "nyc.info()"
      ],
      "execution_count": 3,
      "outputs": [
        {
          "output_type": "stream",
          "name": "stdout",
          "text": [
            "<class 'pandas.core.frame.DataFrame'>\n",
            "RangeIndex: 32632 entries, 0 to 32631\n",
            "Data columns (total 21 columns):\n",
            " #   Column               Non-Null Count  Dtype  \n",
            "---  ------               --------------  -----  \n",
            " 0   plaintiff_name       32632 non-null  object \n",
            " 1   claim_number         32632 non-null  object \n",
            " 2   summary_allegations  32632 non-null  object \n",
            " 3   incident_date        32197 non-null  object \n",
            " 4   filed_date           32632 non-null  object \n",
            " 5   plaintiff_attorney   31647 non-null  object \n",
            " 6   closed_date          32632 non-null  object \n",
            " 7   amount_awarded       32632 non-null  float64\n",
            " 8   location             32632 non-null  object \n",
            " 9   calendar_year        32632 non-null  int64  \n",
            " 10  incident_year        32197 non-null  float64\n",
            " 11  filed_year           32632 non-null  int64  \n",
            " 12  city                 32632 non-null  object \n",
            " 13  state                32632 non-null  object \n",
            " 14  other_expenses       0 non-null      float64\n",
            " 15  collection           0 non-null      float64\n",
            " 16  total_incurred       0 non-null      float64\n",
            " 17  court                0 non-null      float64\n",
            " 18  docket_number        0 non-null      float64\n",
            " 19  matter_name          0 non-null      float64\n",
            " 20  case_outcome         0 non-null      float64\n",
            "dtypes: float64(9), int64(2), object(10)\n",
            "memory usage: 5.2+ MB\n"
          ]
        }
      ]
    },
    {
      "cell_type": "code",
      "metadata": {
        "colab": {
          "base_uri": "https://localhost:8080/"
        },
        "id": "bv0g6PEUshf7",
        "outputId": "b3c04611-9757-44c2-a237-b91168178609"
      },
      "source": [
        "nyc.isnull().sum()"
      ],
      "execution_count": 4,
      "outputs": [
        {
          "output_type": "execute_result",
          "data": {
            "text/plain": [
              "plaintiff_name             0\n",
              "claim_number               0\n",
              "summary_allegations        0\n",
              "incident_date            435\n",
              "filed_date                 0\n",
              "plaintiff_attorney       985\n",
              "closed_date                0\n",
              "amount_awarded             0\n",
              "location                   0\n",
              "calendar_year              0\n",
              "incident_year            435\n",
              "filed_year                 0\n",
              "city                       0\n",
              "state                      0\n",
              "other_expenses         32632\n",
              "collection             32632\n",
              "total_incurred         32632\n",
              "court                  32632\n",
              "docket_number          32632\n",
              "matter_name            32632\n",
              "case_outcome           32632\n",
              "dtype: int64"
            ]
          },
          "metadata": {},
          "execution_count": 4
        }
      ]
    },
    {
      "cell_type": "code",
      "metadata": {
        "colab": {
          "base_uri": "https://localhost:8080/"
        },
        "id": "JzdnkCu0tp1B",
        "outputId": "56f29f32-2700-4def-9705-db2f22a16991"
      },
      "source": [
        "nyc.duplicated().any()"
      ],
      "execution_count": 5,
      "outputs": [
        {
          "output_type": "execute_result",
          "data": {
            "text/plain": [
              "False"
            ]
          },
          "metadata": {},
          "execution_count": 5
        }
      ]
    },
    {
      "cell_type": "code",
      "metadata": {
        "id": "q8zKo-pHs8PN"
      },
      "source": [
        "nyc.drop(columns= ['other_expenses', 'collection', 'total_incurred', 'court', 'docket_number','matter_name', 'case_outcome'], \n",
        "        inplace = True,\n",
        "        axis = 1)"
      ],
      "execution_count": 6,
      "outputs": []
    },
    {
      "cell_type": "code",
      "metadata": {
        "colab": {
          "base_uri": "https://localhost:8080/"
        },
        "id": "3zjk53Gox4ki",
        "outputId": "967bc974-6b37-473a-9de9-7ba0936e3acd"
      },
      "source": [
        "nyc.isnull().sum()"
      ],
      "execution_count": 7,
      "outputs": [
        {
          "output_type": "execute_result",
          "data": {
            "text/plain": [
              "plaintiff_name           0\n",
              "claim_number             0\n",
              "summary_allegations      0\n",
              "incident_date          435\n",
              "filed_date               0\n",
              "plaintiff_attorney     985\n",
              "closed_date              0\n",
              "amount_awarded           0\n",
              "location                 0\n",
              "calendar_year            0\n",
              "incident_year          435\n",
              "filed_year               0\n",
              "city                     0\n",
              "state                    0\n",
              "dtype: int64"
            ]
          },
          "metadata": {},
          "execution_count": 7
        }
      ]
    },
    {
      "cell_type": "markdown",
      "metadata": {
        "id": "06nTBt8yzkkV"
      },
      "source": [
        "5% rule "
      ]
    },
    {
      "cell_type": "code",
      "metadata": {
        "id": "2hplBOz8yDof"
      },
      "source": [
        "nyc.dropna(inplace=True)"
      ],
      "execution_count": 8,
      "outputs": []
    },
    {
      "cell_type": "code",
      "metadata": {
        "colab": {
          "base_uri": "https://localhost:8080/",
          "height": 297
        },
        "id": "xNfgb7iwzBkd",
        "outputId": "76ceeeaa-121b-48a9-a4b0-31968004eb6d"
      },
      "source": [
        "nyc.describe()"
      ],
      "execution_count": 9,
      "outputs": [
        {
          "output_type": "execute_result",
          "data": {
            "text/html": [
              "<div>\n",
              "<style scoped>\n",
              "    .dataframe tbody tr th:only-of-type {\n",
              "        vertical-align: middle;\n",
              "    }\n",
              "\n",
              "    .dataframe tbody tr th {\n",
              "        vertical-align: top;\n",
              "    }\n",
              "\n",
              "    .dataframe thead th {\n",
              "        text-align: right;\n",
              "    }\n",
              "</style>\n",
              "<table border=\"1\" class=\"dataframe\">\n",
              "  <thead>\n",
              "    <tr style=\"text-align: right;\">\n",
              "      <th></th>\n",
              "      <th>amount_awarded</th>\n",
              "      <th>calendar_year</th>\n",
              "      <th>incident_year</th>\n",
              "      <th>filed_year</th>\n",
              "    </tr>\n",
              "  </thead>\n",
              "  <tbody>\n",
              "    <tr>\n",
              "      <th>count</th>\n",
              "      <td>3.127100e+04</td>\n",
              "      <td>31271.000000</td>\n",
              "      <td>31271.000000</td>\n",
              "      <td>31271.000000</td>\n",
              "    </tr>\n",
              "    <tr>\n",
              "      <th>mean</th>\n",
              "      <td>5.082343e+04</td>\n",
              "      <td>2014.497234</td>\n",
              "      <td>2012.073039</td>\n",
              "      <td>2012.644623</td>\n",
              "    </tr>\n",
              "    <tr>\n",
              "      <th>std</th>\n",
              "      <td>3.607730e+05</td>\n",
              "      <td>2.713653</td>\n",
              "      <td>3.309864</td>\n",
              "      <td>3.090965</td>\n",
              "    </tr>\n",
              "    <tr>\n",
              "      <th>min</th>\n",
              "      <td>1.000000e+00</td>\n",
              "      <td>2010.000000</td>\n",
              "      <td>1980.000000</td>\n",
              "      <td>2000.000000</td>\n",
              "    </tr>\n",
              "    <tr>\n",
              "      <th>25%</th>\n",
              "      <td>9.000000e+03</td>\n",
              "      <td>2012.000000</td>\n",
              "      <td>2010.000000</td>\n",
              "      <td>2011.000000</td>\n",
              "    </tr>\n",
              "    <tr>\n",
              "      <th>50%</th>\n",
              "      <td>1.750000e+04</td>\n",
              "      <td>2014.000000</td>\n",
              "      <td>2012.000000</td>\n",
              "      <td>2013.000000</td>\n",
              "    </tr>\n",
              "    <tr>\n",
              "      <th>75%</th>\n",
              "      <td>3.000000e+04</td>\n",
              "      <td>2017.000000</td>\n",
              "      <td>2014.000000</td>\n",
              "      <td>2015.000000</td>\n",
              "    </tr>\n",
              "    <tr>\n",
              "      <th>max</th>\n",
              "      <td>1.517500e+07</td>\n",
              "      <td>2019.000000</td>\n",
              "      <td>2019.000000</td>\n",
              "      <td>2019.000000</td>\n",
              "    </tr>\n",
              "  </tbody>\n",
              "</table>\n",
              "</div>"
            ],
            "text/plain": [
              "       amount_awarded  calendar_year  incident_year    filed_year\n",
              "count    3.127100e+04   31271.000000   31271.000000  31271.000000\n",
              "mean     5.082343e+04    2014.497234    2012.073039   2012.644623\n",
              "std      3.607730e+05       2.713653       3.309864      3.090965\n",
              "min      1.000000e+00    2010.000000    1980.000000   2000.000000\n",
              "25%      9.000000e+03    2012.000000    2010.000000   2011.000000\n",
              "50%      1.750000e+04    2014.000000    2012.000000   2013.000000\n",
              "75%      3.000000e+04    2017.000000    2014.000000   2015.000000\n",
              "max      1.517500e+07    2019.000000    2019.000000   2019.000000"
            ]
          },
          "metadata": {},
          "execution_count": 9
        }
      ]
    },
    {
      "cell_type": "code",
      "metadata": {
        "colab": {
          "base_uri": "https://localhost:8080/",
          "height": 575
        },
        "id": "PAfTUTOIzKtl",
        "outputId": "ac79cd53-bedc-4d59-aef4-073051c7799c"
      },
      "source": [
        "nyc.loc[nyc['amount_awarded'] == 1, :].head(10)"
      ],
      "execution_count": 10,
      "outputs": [
        {
          "output_type": "execute_result",
          "data": {
            "text/html": [
              "<div>\n",
              "<style scoped>\n",
              "    .dataframe tbody tr th:only-of-type {\n",
              "        vertical-align: middle;\n",
              "    }\n",
              "\n",
              "    .dataframe tbody tr th {\n",
              "        vertical-align: top;\n",
              "    }\n",
              "\n",
              "    .dataframe thead th {\n",
              "        text-align: right;\n",
              "    }\n",
              "</style>\n",
              "<table border=\"1\" class=\"dataframe\">\n",
              "  <thead>\n",
              "    <tr style=\"text-align: right;\">\n",
              "      <th></th>\n",
              "      <th>plaintiff_name</th>\n",
              "      <th>claim_number</th>\n",
              "      <th>summary_allegations</th>\n",
              "      <th>incident_date</th>\n",
              "      <th>filed_date</th>\n",
              "      <th>plaintiff_attorney</th>\n",
              "      <th>closed_date</th>\n",
              "      <th>amount_awarded</th>\n",
              "      <th>location</th>\n",
              "      <th>calendar_year</th>\n",
              "      <th>incident_year</th>\n",
              "      <th>filed_year</th>\n",
              "      <th>city</th>\n",
              "      <th>state</th>\n",
              "    </tr>\n",
              "  </thead>\n",
              "  <tbody>\n",
              "    <tr>\n",
              "      <th>14367</th>\n",
              "      <td>Susan Crane</td>\n",
              "      <td>2014PI008992</td>\n",
              "      <td>CIVIL RIGHTS CLAIMS</td>\n",
              "      <td>2004-08-31</td>\n",
              "      <td>2005-10-11</td>\n",
              "      <td>Michael L. Spiegel</td>\n",
              "      <td>2014-05-14 00:00:00</td>\n",
              "      <td>1.0</td>\n",
              "      <td>CHURCH ST FULTON ST, MANHATTAN (NEW YORK)</td>\n",
              "      <td>2014</td>\n",
              "      <td>2004.0</td>\n",
              "      <td>2005</td>\n",
              "      <td>New York City</td>\n",
              "      <td>NY</td>\n",
              "    </tr>\n",
              "    <tr>\n",
              "      <th>14515</th>\n",
              "      <td>Sandra Adragna</td>\n",
              "      <td>2014PI013874</td>\n",
              "      <td>CIVIL RIGHTS CLAIMS</td>\n",
              "      <td>2013-04-01</td>\n",
              "      <td>2014-05-01</td>\n",
              "      <td>John P Grill Pc</td>\n",
              "      <td>2014-05-28 00:00:00</td>\n",
              "      <td>1.0</td>\n",
              "      <td>18-40 DECATUR ST, QUEENS</td>\n",
              "      <td>2014</td>\n",
              "      <td>2013.0</td>\n",
              "      <td>2014</td>\n",
              "      <td>New York City</td>\n",
              "      <td>NY</td>\n",
              "    </tr>\n",
              "    <tr>\n",
              "      <th>14601</th>\n",
              "      <td>Eleen Frabncis</td>\n",
              "      <td>2014PI000064</td>\n",
              "      <td>CIVIL RIGHTS CLAIMS</td>\n",
              "      <td>2012-03-15</td>\n",
              "      <td>2013-02-04</td>\n",
              "      <td>Vaccaro &amp; White</td>\n",
              "      <td>2014-06-03 00:00:00</td>\n",
              "      <td>1.0</td>\n",
              "      <td>132-33 154, QUEENS</td>\n",
              "      <td>2014</td>\n",
              "      <td>2012.0</td>\n",
              "      <td>2013</td>\n",
              "      <td>New York City</td>\n",
              "      <td>NY</td>\n",
              "    </tr>\n",
              "    <tr>\n",
              "      <th>14603</th>\n",
              "      <td>Shauna Frabncis</td>\n",
              "      <td>2014PI000065</td>\n",
              "      <td>CIVIL RIGHTS CLAIMS</td>\n",
              "      <td>2012-03-15</td>\n",
              "      <td>2013-02-04</td>\n",
              "      <td>Vaccaro &amp; White</td>\n",
              "      <td>2014-06-03 00:00:00</td>\n",
              "      <td>1.0</td>\n",
              "      <td>132-33 154, QUEENS</td>\n",
              "      <td>2014</td>\n",
              "      <td>2012.0</td>\n",
              "      <td>2013</td>\n",
              "      <td>New York City</td>\n",
              "      <td>NY</td>\n",
              "    </tr>\n",
              "    <tr>\n",
              "      <th>19165</th>\n",
              "      <td>Franclot Graham</td>\n",
              "      <td>2013PI013387</td>\n",
              "      <td>CIVIL RIGHTS CLAIMS</td>\n",
              "      <td>2012-02-02</td>\n",
              "      <td>2013-03-29</td>\n",
              "      <td>Jeffrey L Emdin  Esq</td>\n",
              "      <td>2015-08-31 00:00:00</td>\n",
              "      <td>1.0</td>\n",
              "      <td>749 E 229 ST, BRONX</td>\n",
              "      <td>2015</td>\n",
              "      <td>2012.0</td>\n",
              "      <td>2013</td>\n",
              "      <td>New York City</td>\n",
              "      <td>NY</td>\n",
              "    </tr>\n",
              "    <tr>\n",
              "      <th>30567</th>\n",
              "      <td>Thomas Girbes Pierce</td>\n",
              "      <td>2017PI020570</td>\n",
              "      <td>CIVIL RIGHTS CLAIMS</td>\n",
              "      <td>1986-04-09</td>\n",
              "      <td>2017-07-19</td>\n",
              "      <td>Steven M. Warshawsky</td>\n",
              "      <td>2019-04-09 00:00:00</td>\n",
              "      <td>1.0</td>\n",
              "      <td>9 &amp; 13 &amp; WASHINGTON ST, MANHATTAN (NEW YORK)</td>\n",
              "      <td>2019</td>\n",
              "      <td>1986.0</td>\n",
              "      <td>2017</td>\n",
              "      <td>New York City</td>\n",
              "      <td>NY</td>\n",
              "    </tr>\n",
              "    <tr>\n",
              "      <th>30876</th>\n",
              "      <td>Vernail Blount</td>\n",
              "      <td>2015PI032182</td>\n",
              "      <td>CIVIL RIGHTS CLAIMS</td>\n",
              "      <td>2012-08-11</td>\n",
              "      <td>2015-11-02</td>\n",
              "      <td>Richman Law Goup</td>\n",
              "      <td>2019-05-13 00:00:00</td>\n",
              "      <td>1.0</td>\n",
              "      <td>188-23 HILBURN AV, QUEENS</td>\n",
              "      <td>2019</td>\n",
              "      <td>2012.0</td>\n",
              "      <td>2015</td>\n",
              "      <td>New York City</td>\n",
              "      <td>NY</td>\n",
              "    </tr>\n",
              "  </tbody>\n",
              "</table>\n",
              "</div>"
            ],
            "text/plain": [
              "             plaintiff_name  claim_number  ...           city state\n",
              "14367           Susan Crane  2014PI008992  ...  New York City    NY\n",
              "14515        Sandra Adragna  2014PI013874  ...  New York City    NY\n",
              "14601        Eleen Frabncis  2014PI000064  ...  New York City    NY\n",
              "14603       Shauna Frabncis  2014PI000065  ...  New York City    NY\n",
              "19165       Franclot Graham  2013PI013387  ...  New York City    NY\n",
              "30567  Thomas Girbes Pierce  2017PI020570  ...  New York City    NY\n",
              "30876        Vernail Blount  2015PI032182  ...  New York City    NY\n",
              "\n",
              "[7 rows x 14 columns]"
            ]
          },
          "metadata": {},
          "execution_count": 10
        }
      ]
    },
    {
      "cell_type": "markdown",
      "metadata": {
        "id": "F-Iz8K1ToIWo"
      },
      "source": [
        "# Philadelphia Data Cleaning"
      ]
    },
    {
      "cell_type": "code",
      "metadata": {
        "colab": {
          "base_uri": "https://localhost:8080/",
          "height": 378
        },
        "id": "LF0U7148oHof",
        "outputId": "29b3ab5a-86a5-4db8-a098-c5b66f6ab423"
      },
      "source": [
        "phl = pd.read_csv('/content/Philly Police Misconduct Settlements.csv')\n",
        "phl.tail()"
      ],
      "execution_count": 11,
      "outputs": [
        {
          "output_type": "execute_result",
          "data": {
            "text/html": [
              "<div>\n",
              "<style scoped>\n",
              "    .dataframe tbody tr th:only-of-type {\n",
              "        vertical-align: middle;\n",
              "    }\n",
              "\n",
              "    .dataframe tbody tr th {\n",
              "        vertical-align: top;\n",
              "    }\n",
              "\n",
              "    .dataframe thead th {\n",
              "        text-align: right;\n",
              "    }\n",
              "</style>\n",
              "<table border=\"1\" class=\"dataframe\">\n",
              "  <thead>\n",
              "    <tr style=\"text-align: right;\">\n",
              "      <th></th>\n",
              "      <th>calendar_year</th>\n",
              "      <th>city</th>\n",
              "      <th>state</th>\n",
              "      <th>incident_date</th>\n",
              "      <th>incident_year</th>\n",
              "      <th>filed_date</th>\n",
              "      <th>filed_year</th>\n",
              "      <th>closed_date</th>\n",
              "      <th>amount_awarded</th>\n",
              "      <th>other_expenses</th>\n",
              "      <th>collection</th>\n",
              "      <th>total_incurred</th>\n",
              "      <th>case_outcome</th>\n",
              "      <th>docket_number</th>\n",
              "      <th>claim_number</th>\n",
              "      <th>court</th>\n",
              "      <th>plaintiff_name</th>\n",
              "      <th>plaintiff_attorney</th>\n",
              "      <th>matter_name</th>\n",
              "      <th>location</th>\n",
              "      <th>summary_allegations</th>\n",
              "    </tr>\n",
              "  </thead>\n",
              "  <tbody>\n",
              "    <tr>\n",
              "      <th>1419</th>\n",
              "      <td>2009.0</td>\n",
              "      <td>Philadelphia</td>\n",
              "      <td>PA</td>\n",
              "      <td>2008-06-27</td>\n",
              "      <td>2008.0</td>\n",
              "      <td>NaN</td>\n",
              "      <td>NaN</td>\n",
              "      <td>2009-12-30</td>\n",
              "      <td>50000.0</td>\n",
              "      <td>NaN</td>\n",
              "      <td>NaN</td>\n",
              "      <td>NaN</td>\n",
              "      <td>NaN</td>\n",
              "      <td>1044839.0</td>\n",
              "      <td>NaN</td>\n",
              "      <td>NaN</td>\n",
              "      <td>Rivera, Jose</td>\n",
              "      <td>NaN</td>\n",
              "      <td>NaN</td>\n",
              "      <td>6th &amp;  7th Sts &amp; Snyder</td>\n",
              "      <td>NaN</td>\n",
              "    </tr>\n",
              "    <tr>\n",
              "      <th>1420</th>\n",
              "      <td>2009.0</td>\n",
              "      <td>Philadelphia</td>\n",
              "      <td>PA</td>\n",
              "      <td>2006-03-07</td>\n",
              "      <td>2006.0</td>\n",
              "      <td>NaN</td>\n",
              "      <td>NaN</td>\n",
              "      <td>2009-12-31</td>\n",
              "      <td>10000.0</td>\n",
              "      <td>NaN</td>\n",
              "      <td>NaN</td>\n",
              "      <td>NaN</td>\n",
              "      <td>NaN</td>\n",
              "      <td>07-923</td>\n",
              "      <td>NaN</td>\n",
              "      <td>NaN</td>\n",
              "      <td>Ortiz, Marisol</td>\n",
              "      <td>NaN</td>\n",
              "      <td>NaN</td>\n",
              "      <td>NaN</td>\n",
              "      <td>NaN</td>\n",
              "    </tr>\n",
              "    <tr>\n",
              "      <th>1421</th>\n",
              "      <td>2009.0</td>\n",
              "      <td>Philadelphia</td>\n",
              "      <td>PA</td>\n",
              "      <td>2006-12-29</td>\n",
              "      <td>2006.0</td>\n",
              "      <td>NaN</td>\n",
              "      <td>NaN</td>\n",
              "      <td>2009-12-31</td>\n",
              "      <td>34500.0</td>\n",
              "      <td>NaN</td>\n",
              "      <td>NaN</td>\n",
              "      <td>NaN</td>\n",
              "      <td>NaN</td>\n",
              "      <td>1483829.0</td>\n",
              "      <td>NaN</td>\n",
              "      <td>NaN</td>\n",
              "      <td>Johnson, Chris</td>\n",
              "      <td>NaN</td>\n",
              "      <td>NaN</td>\n",
              "      <td>1064  Wagner Avenue</td>\n",
              "      <td>NaN</td>\n",
              "    </tr>\n",
              "    <tr>\n",
              "      <th>1422</th>\n",
              "      <td>2009.0</td>\n",
              "      <td>Philadelphia</td>\n",
              "      <td>PA</td>\n",
              "      <td>2007-07-07</td>\n",
              "      <td>2007.0</td>\n",
              "      <td>NaN</td>\n",
              "      <td>NaN</td>\n",
              "      <td>2009-12-31</td>\n",
              "      <td>4400.0</td>\n",
              "      <td>NaN</td>\n",
              "      <td>NaN</td>\n",
              "      <td>NaN</td>\n",
              "      <td>NaN</td>\n",
              "      <td>709306.0</td>\n",
              "      <td>NaN</td>\n",
              "      <td>NaN</td>\n",
              "      <td>Peo, Stephen</td>\n",
              "      <td>NaN</td>\n",
              "      <td>NaN</td>\n",
              "      <td>7201 Roosevelt Blvd</td>\n",
              "      <td>NaN</td>\n",
              "    </tr>\n",
              "    <tr>\n",
              "      <th>1423</th>\n",
              "      <td>2009.0</td>\n",
              "      <td>Philadelphia</td>\n",
              "      <td>PA</td>\n",
              "      <td>2007-10-27</td>\n",
              "      <td>2007.0</td>\n",
              "      <td>NaN</td>\n",
              "      <td>NaN</td>\n",
              "      <td>2009-12-31</td>\n",
              "      <td>19500.0</td>\n",
              "      <td>NaN</td>\n",
              "      <td>NaN</td>\n",
              "      <td>NaN</td>\n",
              "      <td>NaN</td>\n",
              "      <td>2093627.0</td>\n",
              "      <td>NaN</td>\n",
              "      <td>NaN</td>\n",
              "      <td>Masri, Rabih</td>\n",
              "      <td>NaN</td>\n",
              "      <td>NaN</td>\n",
              "      <td>Methodist Hospital Emergency Room</td>\n",
              "      <td>NaN</td>\n",
              "    </tr>\n",
              "  </tbody>\n",
              "</table>\n",
              "</div>"
            ],
            "text/plain": [
              "      calendar_year  ... summary_allegations\n",
              "1419         2009.0  ...                 NaN\n",
              "1420         2009.0  ...                 NaN\n",
              "1421         2009.0  ...                 NaN\n",
              "1422         2009.0  ...                 NaN\n",
              "1423         2009.0  ...                 NaN\n",
              "\n",
              "[5 rows x 21 columns]"
            ]
          },
          "metadata": {},
          "execution_count": 11
        }
      ]
    },
    {
      "cell_type": "code",
      "metadata": {
        "colab": {
          "base_uri": "https://localhost:8080/"
        },
        "id": "ByINiCrts5zb",
        "outputId": "58abe616-6456-4162-85e7-a295db33beda"
      },
      "source": [
        "phl.info()"
      ],
      "execution_count": 12,
      "outputs": [
        {
          "output_type": "stream",
          "name": "stdout",
          "text": [
            "<class 'pandas.core.frame.DataFrame'>\n",
            "RangeIndex: 1424 entries, 0 to 1423\n",
            "Data columns (total 21 columns):\n",
            " #   Column               Non-Null Count  Dtype  \n",
            "---  ------               --------------  -----  \n",
            " 0   calendar_year        1423 non-null   float64\n",
            " 1   city                 1424 non-null   object \n",
            " 2   state                1424 non-null   object \n",
            " 3   incident_date        1400 non-null   object \n",
            " 4   incident_year        1400 non-null   float64\n",
            " 5   filed_date           0 non-null      float64\n",
            " 6   filed_year           0 non-null      float64\n",
            " 7   closed_date          1423 non-null   object \n",
            " 8   amount_awarded       1424 non-null   float64\n",
            " 9   other_expenses       0 non-null      float64\n",
            " 10  collection           0 non-null      float64\n",
            " 11  total_incurred       0 non-null      float64\n",
            " 12  case_outcome         0 non-null      float64\n",
            " 13  docket_number        1414 non-null   object \n",
            " 14  claim_number         0 non-null      float64\n",
            " 15  court                0 non-null      float64\n",
            " 16  plaintiff_name       1424 non-null   object \n",
            " 17  plaintiff_attorney   0 non-null      float64\n",
            " 18  matter_name          0 non-null      float64\n",
            " 19  location             1320 non-null   object \n",
            " 20  summary_allegations  0 non-null      float64\n",
            "dtypes: float64(14), object(7)\n",
            "memory usage: 233.8+ KB\n"
          ]
        }
      ]
    },
    {
      "cell_type": "code",
      "metadata": {
        "colab": {
          "base_uri": "https://localhost:8080/"
        },
        "id": "_LWofh6Ys5pC",
        "outputId": "278ba009-3532-48d6-cdb0-ab9bce3ecd93"
      },
      "source": [
        "phl.isnull().sum()"
      ],
      "execution_count": 13,
      "outputs": [
        {
          "output_type": "execute_result",
          "data": {
            "text/plain": [
              "calendar_year             1\n",
              "city                      0\n",
              "state                     0\n",
              "incident_date            24\n",
              "incident_year            24\n",
              "filed_date             1424\n",
              "filed_year             1424\n",
              "closed_date               1\n",
              "amount_awarded            0\n",
              "other_expenses         1424\n",
              "collection             1424\n",
              "total_incurred         1424\n",
              "case_outcome           1424\n",
              "docket_number            10\n",
              "claim_number           1424\n",
              "court                  1424\n",
              "plaintiff_name            0\n",
              "plaintiff_attorney     1424\n",
              "matter_name            1424\n",
              "location                104\n",
              "summary_allegations    1424\n",
              "dtype: int64"
            ]
          },
          "metadata": {},
          "execution_count": 13
        }
      ]
    },
    {
      "cell_type": "code",
      "metadata": {
        "colab": {
          "base_uri": "https://localhost:8080/"
        },
        "id": "cOo4Bap6wCVf",
        "outputId": "1437f048-fab8-4547-ced6-a3676d13fb3a"
      },
      "source": [
        "phl.duplicated().any()"
      ],
      "execution_count": 14,
      "outputs": [
        {
          "output_type": "execute_result",
          "data": {
            "text/plain": [
              "False"
            ]
          },
          "metadata": {},
          "execution_count": 14
        }
      ]
    },
    {
      "cell_type": "code",
      "metadata": {
        "id": "YUIaFCHgwaUz"
      },
      "source": [
        "phl.drop(inplace=True,axis=1,columns=['summary_allegations','matter_name','plaintiff_attorney','court','claim_number',\n",
        "                                      'case_outcome','total_incurred','collection','other_expenses','filed_year'\n",
        "                                      ,'filed_date'])"
      ],
      "execution_count": 15,
      "outputs": []
    },
    {
      "cell_type": "code",
      "metadata": {
        "colab": {
          "base_uri": "https://localhost:8080/"
        },
        "id": "AZieZRPWwaOT",
        "outputId": "92143c14-2b41-4735-b6a1-42626923dfec"
      },
      "source": [
        "phl.isnull().sum()"
      ],
      "execution_count": 16,
      "outputs": [
        {
          "output_type": "execute_result",
          "data": {
            "text/plain": [
              "calendar_year       1\n",
              "city                0\n",
              "state               0\n",
              "incident_date      24\n",
              "incident_year      24\n",
              "closed_date         1\n",
              "amount_awarded      0\n",
              "docket_number      10\n",
              "plaintiff_name      0\n",
              "location          104\n",
              "dtype: int64"
            ]
          },
          "metadata": {},
          "execution_count": 16
        }
      ]
    },
    {
      "cell_type": "code",
      "metadata": {
        "id": "rKQxHWILzycg"
      },
      "source": [
        "phl[['location']] = phl[['location']].fillna(value='Unknown')"
      ],
      "execution_count": 17,
      "outputs": []
    },
    {
      "cell_type": "code",
      "metadata": {
        "id": "8YJoWxu0waH3"
      },
      "source": [
        "phl.dropna(inplace=True)"
      ],
      "execution_count": 18,
      "outputs": []
    },
    {
      "cell_type": "code",
      "metadata": {
        "colab": {
          "base_uri": "https://localhost:8080/",
          "height": 297
        },
        "id": "Zfa3YPQJwZ8L",
        "outputId": "611660ac-b9ab-4555-b41b-7b0279224d55"
      },
      "source": [
        "phl.describe()"
      ],
      "execution_count": 19,
      "outputs": [
        {
          "output_type": "execute_result",
          "data": {
            "text/html": [
              "<div>\n",
              "<style scoped>\n",
              "    .dataframe tbody tr th:only-of-type {\n",
              "        vertical-align: middle;\n",
              "    }\n",
              "\n",
              "    .dataframe tbody tr th {\n",
              "        vertical-align: top;\n",
              "    }\n",
              "\n",
              "    .dataframe thead th {\n",
              "        text-align: right;\n",
              "    }\n",
              "</style>\n",
              "<table border=\"1\" class=\"dataframe\">\n",
              "  <thead>\n",
              "    <tr style=\"text-align: right;\">\n",
              "      <th></th>\n",
              "      <th>calendar_year</th>\n",
              "      <th>incident_year</th>\n",
              "      <th>amount_awarded</th>\n",
              "    </tr>\n",
              "  </thead>\n",
              "  <tbody>\n",
              "    <tr>\n",
              "      <th>count</th>\n",
              "      <td>1392.000000</td>\n",
              "      <td>1392.000000</td>\n",
              "      <td>1.392000e+03</td>\n",
              "    </tr>\n",
              "    <tr>\n",
              "      <th>mean</th>\n",
              "      <td>2013.991379</td>\n",
              "      <td>2010.320402</td>\n",
              "      <td>8.142661e+04</td>\n",
              "    </tr>\n",
              "    <tr>\n",
              "      <th>std</th>\n",
              "      <td>3.130506</td>\n",
              "      <td>3.207771</td>\n",
              "      <td>3.622573e+05</td>\n",
              "    </tr>\n",
              "    <tr>\n",
              "      <th>min</th>\n",
              "      <td>2009.000000</td>\n",
              "      <td>1988.000000</td>\n",
              "      <td>1.000000e+02</td>\n",
              "    </tr>\n",
              "    <tr>\n",
              "      <th>25%</th>\n",
              "      <td>2011.000000</td>\n",
              "      <td>2008.000000</td>\n",
              "      <td>1.250000e+04</td>\n",
              "    </tr>\n",
              "    <tr>\n",
              "      <th>50%</th>\n",
              "      <td>2014.000000</td>\n",
              "      <td>2010.000000</td>\n",
              "      <td>2.500000e+04</td>\n",
              "    </tr>\n",
              "    <tr>\n",
              "      <th>75%</th>\n",
              "      <td>2017.000000</td>\n",
              "      <td>2012.000000</td>\n",
              "      <td>5.500000e+04</td>\n",
              "    </tr>\n",
              "    <tr>\n",
              "      <th>max</th>\n",
              "      <td>2019.000000</td>\n",
              "      <td>2018.000000</td>\n",
              "      <td>9.850000e+06</td>\n",
              "    </tr>\n",
              "  </tbody>\n",
              "</table>\n",
              "</div>"
            ],
            "text/plain": [
              "       calendar_year  incident_year  amount_awarded\n",
              "count    1392.000000    1392.000000    1.392000e+03\n",
              "mean     2013.991379    2010.320402    8.142661e+04\n",
              "std         3.130506       3.207771    3.622573e+05\n",
              "min      2009.000000    1988.000000    1.000000e+02\n",
              "25%      2011.000000    2008.000000    1.250000e+04\n",
              "50%      2014.000000    2010.000000    2.500000e+04\n",
              "75%      2017.000000    2012.000000    5.500000e+04\n",
              "max      2019.000000    2018.000000    9.850000e+06"
            ]
          },
          "metadata": {},
          "execution_count": 19
        }
      ]
    },
    {
      "cell_type": "code",
      "metadata": {
        "colab": {
          "base_uri": "https://localhost:8080/",
          "height": 204
        },
        "id": "fpTTUrqg2F1d",
        "outputId": "90ee1cc5-501c-41b2-fd97-5de2dfda0321"
      },
      "source": [
        "phl.loc[phl['location'] == 'Unknown', :].head()"
      ],
      "execution_count": 20,
      "outputs": [
        {
          "output_type": "execute_result",
          "data": {
            "text/html": [
              "<div>\n",
              "<style scoped>\n",
              "    .dataframe tbody tr th:only-of-type {\n",
              "        vertical-align: middle;\n",
              "    }\n",
              "\n",
              "    .dataframe tbody tr th {\n",
              "        vertical-align: top;\n",
              "    }\n",
              "\n",
              "    .dataframe thead th {\n",
              "        text-align: right;\n",
              "    }\n",
              "</style>\n",
              "<table border=\"1\" class=\"dataframe\">\n",
              "  <thead>\n",
              "    <tr style=\"text-align: right;\">\n",
              "      <th></th>\n",
              "      <th>calendar_year</th>\n",
              "      <th>city</th>\n",
              "      <th>state</th>\n",
              "      <th>incident_date</th>\n",
              "      <th>incident_year</th>\n",
              "      <th>closed_date</th>\n",
              "      <th>amount_awarded</th>\n",
              "      <th>docket_number</th>\n",
              "      <th>plaintiff_name</th>\n",
              "      <th>location</th>\n",
              "    </tr>\n",
              "  </thead>\n",
              "  <tbody>\n",
              "    <tr>\n",
              "      <th>17</th>\n",
              "      <td>2010.0</td>\n",
              "      <td>Philadelphia</td>\n",
              "      <td>PA</td>\n",
              "      <td>2006-08-16</td>\n",
              "      <td>2006.0</td>\n",
              "      <td>2010-03-22</td>\n",
              "      <td>102000.0</td>\n",
              "      <td>685410.0</td>\n",
              "      <td>Nicholson, Derick</td>\n",
              "      <td>Unknown</td>\n",
              "    </tr>\n",
              "    <tr>\n",
              "      <th>43</th>\n",
              "      <td>2010.0</td>\n",
              "      <td>Philadelphia</td>\n",
              "      <td>PA</td>\n",
              "      <td>2007-10-16</td>\n",
              "      <td>2007.0</td>\n",
              "      <td>2010-05-18</td>\n",
              "      <td>11000.0</td>\n",
              "      <td>08-769</td>\n",
              "      <td>Dade, Leroy</td>\n",
              "      <td>Unknown</td>\n",
              "    </tr>\n",
              "    <tr>\n",
              "      <th>49</th>\n",
              "      <td>2010.0</td>\n",
              "      <td>Philadelphia</td>\n",
              "      <td>PA</td>\n",
              "      <td>2006-08-20</td>\n",
              "      <td>2006.0</td>\n",
              "      <td>2010-05-26</td>\n",
              "      <td>30000.0</td>\n",
              "      <td>747135.0</td>\n",
              "      <td>Banks, Ryan</td>\n",
              "      <td>Unknown</td>\n",
              "    </tr>\n",
              "    <tr>\n",
              "      <th>56</th>\n",
              "      <td>2010.0</td>\n",
              "      <td>Philadelphia</td>\n",
              "      <td>PA</td>\n",
              "      <td>2006-05-06</td>\n",
              "      <td>2006.0</td>\n",
              "      <td>2010-06-24</td>\n",
              "      <td>65000.0</td>\n",
              "      <td>764271.0</td>\n",
              "      <td>Evans, James</td>\n",
              "      <td>Unknown</td>\n",
              "    </tr>\n",
              "    <tr>\n",
              "      <th>60</th>\n",
              "      <td>2010.0</td>\n",
              "      <td>Philadelphia</td>\n",
              "      <td>PA</td>\n",
              "      <td>2007-10-01</td>\n",
              "      <td>2007.0</td>\n",
              "      <td>2010-06-29</td>\n",
              "      <td>50000.0</td>\n",
              "      <td>607278.0</td>\n",
              "      <td>Friel, Lawrence</td>\n",
              "      <td>Unknown</td>\n",
              "    </tr>\n",
              "  </tbody>\n",
              "</table>\n",
              "</div>"
            ],
            "text/plain": [
              "    calendar_year          city state  ... docket_number     plaintiff_name location\n",
              "17         2010.0  Philadelphia    PA  ...      685410.0  Nicholson, Derick  Unknown\n",
              "43         2010.0  Philadelphia    PA  ...        08-769        Dade, Leroy  Unknown\n",
              "49         2010.0  Philadelphia    PA  ...      747135.0        Banks, Ryan  Unknown\n",
              "56         2010.0  Philadelphia    PA  ...      764271.0       Evans, James  Unknown\n",
              "60         2010.0  Philadelphia    PA  ...      607278.0    Friel, Lawrence  Unknown\n",
              "\n",
              "[5 rows x 10 columns]"
            ]
          },
          "metadata": {},
          "execution_count": 20
        }
      ]
    },
    {
      "cell_type": "markdown",
      "metadata": {
        "id": "0VtXbIrz9Y8w"
      },
      "source": [
        "# SQL "
      ]
    },
    {
      "cell_type": "markdown",
      "metadata": {
        "id": "JfASGKsxRITl"
      },
      "source": [
        "## Creating a Database and SQL Table"
      ]
    },
    {
      "cell_type": "code",
      "metadata": {
        "id": "-3Dl1JfQ8vq8"
      },
      "source": [
        "# create sqlite engine\n",
        "engine = create_engine('sqlite:///Police Misconduct.db', echo=True)\n",
        "# create connection to engine\n",
        "conn = engine.connect()"
      ],
      "execution_count": 21,
      "outputs": []
    },
    {
      "cell_type": "code",
      "metadata": {
        "colab": {
          "base_uri": "https://localhost:8080/"
        },
        "id": "CgroWypRm9aO",
        "outputId": "ff54e0c2-4e59-474e-ee99-2754fbe64fdc"
      },
      "source": [
        "# add the dataframe as a table in sqlite for New York City\n",
        "sqlite_table = \"New_York\"\n",
        "nyc.to_sql(sqlite_table, conn, if_exists='fail')\n",
        "\n",
        "# add the dataframe as a table in sqlite for Philadelphia\n",
        "sqlite_table2 = \"Philly\"\n",
        "phl.to_sql(sqlite_table2, conn, if_exists='fail')"
      ],
      "execution_count": 22,
      "outputs": [
        {
          "output_type": "stream",
          "name": "stdout",
          "text": [
            "2021-12-02 04:32:47,148 INFO sqlalchemy.engine.Engine PRAGMA main.table_info(\"New_York\")\n",
            "2021-12-02 04:32:47,149 INFO sqlalchemy.engine.Engine [raw sql] ()\n",
            "2021-12-02 04:32:47,152 INFO sqlalchemy.engine.Engine PRAGMA temp.table_info(\"New_York\")\n",
            "2021-12-02 04:32:47,154 INFO sqlalchemy.engine.Engine [raw sql] ()\n",
            "2021-12-02 04:32:47,166 INFO sqlalchemy.engine.Engine \n",
            "CREATE TABLE \"New_York\" (\n",
            "\t\"index\" BIGINT, \n",
            "\tplaintiff_name TEXT, \n",
            "\tclaim_number TEXT, \n",
            "\tsummary_allegations TEXT, \n",
            "\tincident_date TEXT, \n",
            "\tfiled_date TEXT, \n",
            "\tplaintiff_attorney TEXT, \n",
            "\tclosed_date TEXT, \n",
            "\tamount_awarded FLOAT, \n",
            "\tlocation TEXT, \n",
            "\tcalendar_year BIGINT, \n",
            "\tincident_year FLOAT, \n",
            "\tfiled_year BIGINT, \n",
            "\tcity TEXT, \n",
            "\tstate TEXT\n",
            ")\n",
            "\n",
            "\n",
            "2021-12-02 04:32:47,169 INFO sqlalchemy.engine.Engine [no key 0.00216s] ()\n",
            "2021-12-02 04:32:47,191 INFO sqlalchemy.engine.Engine COMMIT\n",
            "2021-12-02 04:32:47,194 INFO sqlalchemy.engine.Engine CREATE INDEX \"ix_New_York_index\" ON \"New_York\" (\"index\")\n",
            "2021-12-02 04:32:47,195 INFO sqlalchemy.engine.Engine [no key 0.00120s] ()\n",
            "2021-12-02 04:32:47,208 INFO sqlalchemy.engine.Engine COMMIT\n",
            "2021-12-02 04:32:47,253 INFO sqlalchemy.engine.Engine BEGIN (implicit)\n",
            "2021-12-02 04:32:48,480 INFO sqlalchemy.engine.Engine INSERT INTO \"New_York\" (\"index\", plaintiff_name, claim_number, summary_allegations, incident_date, filed_date, plaintiff_attorney, closed_date, amount_awarded, location, calendar_year, incident_year, filed_year, city, state) VALUES (?, ?, ?, ?, ?, ?, ?, ?, ?, ?, ?, ?, ?, ?, ?)\n",
            "2021-12-02 04:32:48,482 INFO sqlalchemy.engine.Engine [generated in 1.15338s] ((0, 'Kathy Batka', '2009PI023313', 'CIVIL RIGHTS CLAIMS', '2008-07-26', '2009-08-24', 'Matthew Flamm', '2010-01-04 00:00:00', 5000.0, '7 AV & 33 ST & 34 ST, MANHATTAN (NEW YORK)', 2010, 2008.0, 2009, 'New York City', 'NY'), (1, 'Ingrid Conway', '2009PI014930', 'PEACE OFFICER/POLICE ACTION (PI)', '2009-05-01', '2009-06-12', 'Richard J Cardinale', '2010-01-04 00:00:00', 15000.0, '111 BRIDGE ST, BROOKLYN (KINGS)', 2010, 2009.0, 2009, 'New York City', 'NY'), (2, 'Melvin Rennock', '2009PI000487', 'CIVIL RIGHTS CLAIMS', '2005-09-05', '2008-11-06', 'Anthony C Ofodile', '2010-01-04 00:00:00', 17500.0, 'Precise location missing, BROOKLYN (KINGS)', 2010, 2005.0, 2008, 'New York City', 'NY'), (3, 'Peter Mcenaney', '2008PI024680', 'CIVIL RIGHTS CLAIMS', '2007-12-31', '2008-09-18', 'Richard Cardinale', '2010-01-04 00:00:00', 11000.0, 'Precise location missing, BROOKLYN (KINGS)', 2010, 2007.0, 2008, 'New York City', 'NY'), (4, 'Hector Galvez', '2008PI022264', 'PEACE OFFICER/POLICE ACTION (PI)', '2008-08-23', '2008-09-18', 'Rosenberg Minc Falkoff & Wolff', '2010-01-04 00:00:00', 25000.0, '444 E 119 ST, MANHATTAN (NEW YORK)', 2010, 2008.0, 2008, 'New York City', 'NY'), (5, 'Dwight Trotman', '2008PI007921', 'PEACE OFFICER/POLICE ACTION (PI)', '2008-01-03', '2008-03-17', 'Breadbar Garfield', '2010-01-04 00:00:00', 5000.0, '1262 WEBSTER AV, BRONX', 2010, 2008.0, 2008, 'New York City', 'NY'), (6, 'Marlon Moville', '2003PI029883', 'PEACE OFFICER/POLICE ACTION (PI)', '2003-11-09', '2003-11-09', 'Rubenstein & Rynecki', '2010-01-04 00:00:00', 25000.0, 'FLATBUSH AV & PARKSIDE AV, BROOKLYN (KINGS)', 2010, 2003.0, 2003, 'New York City', 'NY'), (7, 'Sun Saijin', '2010PI001993', 'PEACE OFFICER/POLICE ACTION (PI)', '2009-10-08', '2009-12-02', 'Salzman & Winer Llp', '2010-01-05 00:00:00', 7500.0, '251 39 ST, MANHATTAN (NEW YORK)', 2010, 2009.0, 2009, 'New York City', 'NY')  ... displaying 10 of 31271 total bound parameter sets ...  (32630, 'Rashawn Marquez', '2018PI021001', 'PEACE OFFICER/POLICE ACTION (PI)', '2018-04-30', '2018-07-13', 'Brownstein Legal', '2019-12-31 00:00:00', 3000.0, '22 PLEASANT PL, BROOKLYN (KINGS), NY', 2019, 2018.0, 2018, 'New York City', 'NY'), (32631, 'Marquella Martin', '2018PI020155', 'PEACE OFFICER/POLICE ACTION (PI)', '2018-06-26', '2018-07-06', 'Brownstein Legal', '2019-12-31 00:00:00', 3500.0, 'ROCKAWAY AVE ATLANTIC AVE, BROOKLYN (KINGS), NY', 2019, 2018.0, 2018, 'New York City', 'NY'))\n",
            "2021-12-02 04:32:48,673 INFO sqlalchemy.engine.Engine COMMIT\n",
            "2021-12-02 04:32:48,732 INFO sqlalchemy.engine.Engine SELECT name FROM sqlite_master WHERE type='table' ORDER BY name\n",
            "2021-12-02 04:32:48,734 INFO sqlalchemy.engine.Engine [raw sql] ()\n",
            "2021-12-02 04:32:48,740 INFO sqlalchemy.engine.Engine PRAGMA main.table_info(\"Philly\")\n",
            "2021-12-02 04:32:48,746 INFO sqlalchemy.engine.Engine [raw sql] ()\n",
            "2021-12-02 04:32:48,749 INFO sqlalchemy.engine.Engine PRAGMA temp.table_info(\"Philly\")\n",
            "2021-12-02 04:32:48,752 INFO sqlalchemy.engine.Engine [raw sql] ()\n",
            "2021-12-02 04:32:48,759 INFO sqlalchemy.engine.Engine \n",
            "CREATE TABLE \"Philly\" (\n",
            "\t\"index\" BIGINT, \n",
            "\tcalendar_year FLOAT, \n",
            "\tcity TEXT, \n",
            "\tstate TEXT, \n",
            "\tincident_date TEXT, \n",
            "\tincident_year FLOAT, \n",
            "\tclosed_date TEXT, \n",
            "\tamount_awarded FLOAT, \n",
            "\tdocket_number TEXT, \n",
            "\tplaintiff_name TEXT, \n",
            "\tlocation TEXT\n",
            ")\n",
            "\n",
            "\n",
            "2021-12-02 04:32:48,760 INFO sqlalchemy.engine.Engine [no key 0.00152s] ()\n",
            "2021-12-02 04:32:48,779 INFO sqlalchemy.engine.Engine COMMIT\n",
            "2021-12-02 04:32:48,781 INFO sqlalchemy.engine.Engine CREATE INDEX \"ix_Philly_index\" ON \"Philly\" (\"index\")\n",
            "2021-12-02 04:32:48,785 INFO sqlalchemy.engine.Engine [no key 0.00323s] ()\n",
            "2021-12-02 04:32:48,799 INFO sqlalchemy.engine.Engine COMMIT\n",
            "2021-12-02 04:32:48,803 INFO sqlalchemy.engine.Engine BEGIN (implicit)\n",
            "2021-12-02 04:32:48,845 INFO sqlalchemy.engine.Engine INSERT INTO \"Philly\" (\"index\", calendar_year, city, state, incident_date, incident_year, closed_date, amount_awarded, docket_number, plaintiff_name, location) VALUES (?, ?, ?, ?, ?, ?, ?, ?, ?, ?, ?)\n",
            "2021-12-02 04:32:48,847 INFO sqlalchemy.engine.Engine [generated in 0.03329s] ((0, 2010.0, 'Philadelphia', 'PA', '2004-05-25', 2004.0, '2010-01-11', 3871.0, '126892.0', 'Pendergrass, Antonio', '6000  Chester Avenue'), (1, 2010.0, 'Philadelphia', 'PA', '2005-07-28', 2005.0, '2010-01-12', 45000.0, '25750.0', 'Mann, John', 'CJC'), (2, 2010.0, 'Philadelphia', 'PA', '2008-07-03', 2008.0, '2010-01-21', 25000.0, '196016.0', 'Drummond, Geovani', '61 West Logan Street'), (3, 2010.0, 'Philadelphia', 'PA', '2005-04-25', 2005.0, '2010-01-26', 750.0, '3081367.0', 'Velez, Ramon', '2nd St. & Lehigh Ave.'), (4, 2010.0, 'Philadelphia', 'PA', '2007-05-05', 2007.0, '2010-01-27', 12500.0, '4091056.0', 'Malaszecki, Brian', '4415  Decatur Street'), (5, 2010.0, 'Philadelphia', 'PA', '2009-02-09', 2009.0, '2010-01-28', 30000.0, '358184.0', 'Hamilin, Candice', 'Cheltenham Ave. towards Rising Sun Ave.'), (6, 2010.0, 'Philadelphia', 'PA', '2006-08-03', 2006.0, '2010-02-01', 1500.0, '8083228.0', 'DiGiacomo, Joseph', '381 Livesey Street'), (7, 2010.0, 'Philadelphia', 'PA', '2007-08-04', 2007.0, '2010-02-03', 275000.0, '893597.0', 'Lally, Timothy', 'One Noble St.')  ... displaying 10 of 1392 total bound parameter sets ...  (1422, 2009.0, 'Philadelphia', 'PA', '2007-07-07', 2007.0, '2009-12-31', 4400.0, '709306.0', 'Peo, Stephen', '7201 Roosevelt Blvd'), (1423, 2009.0, 'Philadelphia', 'PA', '2007-10-27', 2007.0, '2009-12-31', 19500.0, '2093627.0', 'Masri, Rabih', 'Methodist Hospital Emergency Room'))\n",
            "2021-12-02 04:32:48,857 INFO sqlalchemy.engine.Engine COMMIT\n",
            "2021-12-02 04:32:48,874 INFO sqlalchemy.engine.Engine SELECT name FROM sqlite_master WHERE type='table' ORDER BY name\n",
            "2021-12-02 04:32:48,876 INFO sqlalchemy.engine.Engine [raw sql] ()\n"
          ]
        }
      ]
    },
    {
      "cell_type": "markdown",
      "metadata": {
        "id": "cuk5jWT3SNUJ"
      },
      "source": [
        "## Queries"
      ]
    },
    {
      "cell_type": "markdown",
      "metadata": {
        "id": "UMVLgJHxNTfS"
      },
      "source": [
        "### Who are the plaintiff attornies without duplication and in alphabetical order had a case between January 1st, 2009 and December 31st, 2011?"
      ]
    },
    {
      "cell_type": "code",
      "metadata": {
        "colab": {
          "base_uri": "https://localhost:8080/",
          "height": 347
        },
        "id": "DUIce1uwCxEc",
        "outputId": "dad1caef-67d9-4de5-ef01-0daa883a666f"
      },
      "source": [
        "# My SQL query\n",
        "sql = \"\"\"\n",
        "SELECT DISTINCT(plaintiff_attorney), plaintiff_name, amount_awarded, incident_date\n",
        "FROM New_York \n",
        "WHERE incident_date BETWEEN '2009-01-01' AND '2011-12-31'\n",
        "ORDER BY plaintiff_attorney \n",
        "LIMIT 5\n",
        "\"\"\"\n",
        "\n",
        "# Read the sql query into pandas to view the results\n",
        "df = pd.read_sql_query(sql, engine)\n",
        "df.head()"
      ],
      "execution_count": 24,
      "outputs": [
        {
          "output_type": "stream",
          "name": "stdout",
          "text": [
            "2021-12-02 04:32:48,903 INFO sqlalchemy.engine.Engine \n",
            "SELECT DISTINCT(plaintiff_attorney), plaintiff_name, amount_awarded, incident_date\n",
            "FROM New_York \n",
            "WHERE incident_date BETWEEN '2009-01-01' AND '2011-12-31'\n",
            "ORDER BY plaintiff_attorney \n",
            "LIMIT 5\n",
            "\n",
            "2021-12-02 04:32:48,906 INFO sqlalchemy.engine.Engine [raw sql] ()\n"
          ]
        },
        {
          "output_type": "execute_result",
          "data": {
            "text/html": [
              "<div>\n",
              "<style scoped>\n",
              "    .dataframe tbody tr th:only-of-type {\n",
              "        vertical-align: middle;\n",
              "    }\n",
              "\n",
              "    .dataframe tbody tr th {\n",
              "        vertical-align: top;\n",
              "    }\n",
              "\n",
              "    .dataframe thead th {\n",
              "        text-align: right;\n",
              "    }\n",
              "</style>\n",
              "<table border=\"1\" class=\"dataframe\">\n",
              "  <thead>\n",
              "    <tr style=\"text-align: right;\">\n",
              "      <th></th>\n",
              "      <th>plaintiff_attorney</th>\n",
              "      <th>plaintiff_name</th>\n",
              "      <th>amount_awarded</th>\n",
              "      <th>incident_date</th>\n",
              "    </tr>\n",
              "  </thead>\n",
              "  <tbody>\n",
              "    <tr>\n",
              "      <th>0</th>\n",
              "      <td>325 Broadway Gannes And Musico Llp</td>\n",
              "      <td>Everett Jackson</td>\n",
              "      <td>20000.0</td>\n",
              "      <td>2009-09-14</td>\n",
              "    </tr>\n",
              "    <tr>\n",
              "      <th>1</th>\n",
              "      <td>A. James Bell</td>\n",
              "      <td>Leonard Matthews</td>\n",
              "      <td>25000.0</td>\n",
              "      <td>2011-04-14</td>\n",
              "    </tr>\n",
              "    <tr>\n",
              "      <th>2</th>\n",
              "      <td>Aaron Wallenstein</td>\n",
              "      <td>David Walker</td>\n",
              "      <td>12000.0</td>\n",
              "      <td>2010-10-21</td>\n",
              "    </tr>\n",
              "    <tr>\n",
              "      <th>3</th>\n",
              "      <td>Aaron Wallenstein</td>\n",
              "      <td>Basdeo Shiwmangal</td>\n",
              "      <td>20000.0</td>\n",
              "      <td>2010-10-21</td>\n",
              "    </tr>\n",
              "    <tr>\n",
              "      <th>4</th>\n",
              "      <td>Aaron Wallenstein</td>\n",
              "      <td>Jose Pina</td>\n",
              "      <td>45000.0</td>\n",
              "      <td>2010-07-20</td>\n",
              "    </tr>\n",
              "  </tbody>\n",
              "</table>\n",
              "</div>"
            ],
            "text/plain": [
              "                   plaintiff_attorney  ... incident_date\n",
              "0  325 Broadway Gannes And Musico Llp  ...    2009-09-14\n",
              "1                       A. James Bell  ...    2011-04-14\n",
              "2                   Aaron Wallenstein  ...    2010-10-21\n",
              "3                   Aaron Wallenstein  ...    2010-10-21\n",
              "4                   Aaron Wallenstein  ...    2010-07-20\n",
              "\n",
              "[5 rows x 4 columns]"
            ]
          },
          "metadata": {},
          "execution_count": 24
        }
      ]
    },
    {
      "cell_type": "markdown",
      "metadata": {
        "id": "I6sp3rH_Wa4G"
      },
      "source": [
        "### Who is the highest awarded plaintiff?"
      ]
    },
    {
      "cell_type": "code",
      "metadata": {
        "colab": {
          "base_uri": "https://localhost:8080/",
          "height": 169
        },
        "id": "9DFV7EOpKZ1J",
        "outputId": "189f02a9-d533-44c6-bba3-6ff81f1b6169"
      },
      "source": [
        "# My SQL query\n",
        "sql = \"\"\"\n",
        "SELECT MAX(amount_awarded), plaintiff_name, incident_date, incident_year, closed_date\n",
        "FROM New_York \n",
        "\"\"\"\n",
        "\n",
        "# Read the sql query into pandas to view the results\n",
        "df = pd.read_sql_query(sql, engine)\n",
        "df.head()"
      ],
      "execution_count": 25,
      "outputs": [
        {
          "output_type": "stream",
          "name": "stdout",
          "text": [
            "2021-12-02 04:32:48,955 INFO sqlalchemy.engine.Engine \n",
            "SELECT MAX(amount_awarded), plaintiff_name, incident_date, incident_year, closed_date\n",
            "FROM New_York \n",
            "\n",
            "2021-12-02 04:32:48,959 INFO sqlalchemy.engine.Engine [raw sql] ()\n"
          ]
        },
        {
          "output_type": "execute_result",
          "data": {
            "text/html": [
              "<div>\n",
              "<style scoped>\n",
              "    .dataframe tbody tr th:only-of-type {\n",
              "        vertical-align: middle;\n",
              "    }\n",
              "\n",
              "    .dataframe tbody tr th {\n",
              "        vertical-align: top;\n",
              "    }\n",
              "\n",
              "    .dataframe thead th {\n",
              "        text-align: right;\n",
              "    }\n",
              "</style>\n",
              "<table border=\"1\" class=\"dataframe\">\n",
              "  <thead>\n",
              "    <tr style=\"text-align: right;\">\n",
              "      <th></th>\n",
              "      <th>MAX(amount_awarded)</th>\n",
              "      <th>plaintiff_name</th>\n",
              "      <th>incident_date</th>\n",
              "      <th>incident_year</th>\n",
              "      <th>closed_date</th>\n",
              "    </tr>\n",
              "  </thead>\n",
              "  <tbody>\n",
              "    <tr>\n",
              "      <th>0</th>\n",
              "      <td>15175000.0</td>\n",
              "      <td>Paul Et Al Casale</td>\n",
              "      <td>2007-03-04</td>\n",
              "      <td>2007.0</td>\n",
              "      <td>2011-12-16 00:00:00</td>\n",
              "    </tr>\n",
              "  </tbody>\n",
              "</table>\n",
              "</div>"
            ],
            "text/plain": [
              "   MAX(amount_awarded)     plaintiff_name  ... incident_year          closed_date\n",
              "0           15175000.0  Paul Et Al Casale  ...        2007.0  2011-12-16 00:00:00\n",
              "\n",
              "[1 rows x 5 columns]"
            ]
          },
          "metadata": {},
          "execution_count": 25
        }
      ]
    },
    {
      "cell_type": "markdown",
      "metadata": {
        "id": "NjYCGzsScFeg"
      },
      "source": [
        "### What is the most frequent award amount that the plaintiff receives?"
      ]
    },
    {
      "cell_type": "code",
      "metadata": {
        "colab": {
          "base_uri": "https://localhost:8080/",
          "height": 364
        },
        "id": "mOdBFOrsYMkm",
        "outputId": "2f12055d-6364-4a7d-d0c3-820901de7a5b"
      },
      "source": [
        "# My SQL query\n",
        "sql = \"\"\"\n",
        "SELECT amount_awarded, COUNT(amount_awarded) AS plaintiff_with_same_amount_awarded\n",
        "FROM New_York\n",
        "WHERE amount_awarded >= 10000 \n",
        "GROUP BY amount_awarded\n",
        "ORDER BY plaintiff_with_same_amount_awarded DESC\n",
        "LIMIT 5\n",
        "\"\"\"\n",
        "\n",
        "# Read the sql query into pandas to view the results\n",
        "df = pd.read_sql_query(sql, engine)\n",
        "df.head()"
      ],
      "execution_count": 36,
      "outputs": [
        {
          "output_type": "stream",
          "name": "stdout",
          "text": [
            "2021-12-02 04:38:57,878 INFO sqlalchemy.engine.Engine \n",
            "SELECT amount_awarded, COUNT(amount_awarded) AS plaintiff_with_same_amount_awarded\n",
            "FROM New_York\n",
            "WHERE amount_awarded >= 10000 \n",
            "GROUP BY amount_awarded\n",
            "ORDER BY plaintiff_with_same_amount_awarded DESC\n",
            "LIMIT 5\n",
            "\n",
            "2021-12-02 04:38:57,882 INFO sqlalchemy.engine.Engine [raw sql] ()\n"
          ]
        },
        {
          "output_type": "execute_result",
          "data": {
            "text/html": [
              "<div>\n",
              "<style scoped>\n",
              "    .dataframe tbody tr th:only-of-type {\n",
              "        vertical-align: middle;\n",
              "    }\n",
              "\n",
              "    .dataframe tbody tr th {\n",
              "        vertical-align: top;\n",
              "    }\n",
              "\n",
              "    .dataframe thead th {\n",
              "        text-align: right;\n",
              "    }\n",
              "</style>\n",
              "<table border=\"1\" class=\"dataframe\">\n",
              "  <thead>\n",
              "    <tr style=\"text-align: right;\">\n",
              "      <th></th>\n",
              "      <th>amount_awarded</th>\n",
              "      <th>plaintiff_with_same_amount_awarded</th>\n",
              "    </tr>\n",
              "  </thead>\n",
              "  <tbody>\n",
              "    <tr>\n",
              "      <th>0</th>\n",
              "      <td>15000.0</td>\n",
              "      <td>2597</td>\n",
              "    </tr>\n",
              "    <tr>\n",
              "      <th>1</th>\n",
              "      <td>20000.0</td>\n",
              "      <td>2098</td>\n",
              "    </tr>\n",
              "    <tr>\n",
              "      <th>2</th>\n",
              "      <td>10000.0</td>\n",
              "      <td>1958</td>\n",
              "    </tr>\n",
              "    <tr>\n",
              "      <th>3</th>\n",
              "      <td>25000.0</td>\n",
              "      <td>1936</td>\n",
              "    </tr>\n",
              "    <tr>\n",
              "      <th>4</th>\n",
              "      <td>12500.0</td>\n",
              "      <td>1394</td>\n",
              "    </tr>\n",
              "  </tbody>\n",
              "</table>\n",
              "</div>"
            ],
            "text/plain": [
              "   amount_awarded  plaintiff_with_same_amount_awarded\n",
              "0         15000.0                                2597\n",
              "1         20000.0                                2098\n",
              "2         10000.0                                1958\n",
              "3         25000.0                                1936\n",
              "4         12500.0                                1394"
            ]
          },
          "metadata": {},
          "execution_count": 36
        }
      ]
    },
    {
      "cell_type": "markdown",
      "metadata": {
        "id": "stcdFI4UpqnH"
      },
      "source": [
        "### Which type of allegations have the highest average award amount?"
      ]
    },
    {
      "cell_type": "code",
      "metadata": {
        "colab": {
          "base_uri": "https://localhost:8080/",
          "height": 347
        },
        "id": "TMXSecGYppHp",
        "outputId": "04b9d0c6-67ac-4ca7-c4ee-1cea8d41a904"
      },
      "source": [
        "# My SQL query\n",
        "sql = \"\"\"\n",
        "SELECT summary_allegations, ROUND(AVG(amount_awarded),2) AS average_amount_awarded\n",
        "FROM New_York \n",
        "GROUP BY summary_allegations\n",
        "ORDER BY average_amount_awarded DESC\n",
        "LIMIT 5\n",
        "\"\"\"\n",
        "\n",
        "# Read the sql query into pandas to view the results\n",
        "df = pd.read_sql_query(sql, engine)\n",
        "df.head()"
      ],
      "execution_count": 49,
      "outputs": [
        {
          "output_type": "stream",
          "name": "stdout",
          "text": [
            "2021-12-02 05:49:52,669 INFO sqlalchemy.engine.Engine \n",
            "SELECT summary_allegations, ROUND(AVG(amount_awarded),2) AS average_amount_awarded\n",
            "FROM New_York \n",
            "GROUP BY summary_allegations\n",
            "ORDER BY average_amount_awarded DESC\n",
            "LIMIT 5\n",
            "\n",
            "2021-12-02 05:49:52,671 INFO sqlalchemy.engine.Engine [raw sql] ()\n"
          ]
        },
        {
          "output_type": "execute_result",
          "data": {
            "text/html": [
              "<div>\n",
              "<style scoped>\n",
              "    .dataframe tbody tr th:only-of-type {\n",
              "        vertical-align: middle;\n",
              "    }\n",
              "\n",
              "    .dataframe tbody tr th {\n",
              "        vertical-align: top;\n",
              "    }\n",
              "\n",
              "    .dataframe thead th {\n",
              "        text-align: right;\n",
              "    }\n",
              "</style>\n",
              "<table border=\"1\" class=\"dataframe\">\n",
              "  <thead>\n",
              "    <tr style=\"text-align: right;\">\n",
              "      <th></th>\n",
              "      <th>summary_allegations</th>\n",
              "      <th>average_amount_awarded</th>\n",
              "    </tr>\n",
              "  </thead>\n",
              "  <tbody>\n",
              "    <tr>\n",
              "      <th>0</th>\n",
              "      <td>PERSONAL INJURY</td>\n",
              "      <td>120000.00</td>\n",
              "    </tr>\n",
              "    <tr>\n",
              "      <th>1</th>\n",
              "      <td>CIVIL RIGHTS CLAIMS</td>\n",
              "      <td>67925.09</td>\n",
              "    </tr>\n",
              "    <tr>\n",
              "      <th>2</th>\n",
              "      <td>MISCELLANEOUS</td>\n",
              "      <td>55600.00</td>\n",
              "    </tr>\n",
              "    <tr>\n",
              "      <th>3</th>\n",
              "      <td>PEACE OFFICER/POLICE ACTION (PI)</td>\n",
              "      <td>42652.23</td>\n",
              "    </tr>\n",
              "    <tr>\n",
              "      <th>4</th>\n",
              "      <td>HYBRID</td>\n",
              "      <td>24750.00</td>\n",
              "    </tr>\n",
              "  </tbody>\n",
              "</table>\n",
              "</div>"
            ],
            "text/plain": [
              "                summary_allegations  average_amount_awarded\n",
              "0                   PERSONAL INJURY               120000.00\n",
              "1               CIVIL RIGHTS CLAIMS                67925.09\n",
              "2                     MISCELLANEOUS                55600.00\n",
              "3  PEACE OFFICER/POLICE ACTION (PI)                42652.23\n",
              "4                            HYBRID                24750.00"
            ]
          },
          "metadata": {},
          "execution_count": 49
        }
      ]
    },
    {
      "cell_type": "markdown",
      "metadata": {
        "id": "_pShrfMhmcYQ"
      },
      "source": [
        "### What are some famous police brutality cases?"
      ]
    },
    {
      "cell_type": "code",
      "metadata": {
        "colab": {
          "base_uri": "https://localhost:8080/",
          "height": 492
        },
        "id": "S7R3UCBcMnei",
        "outputId": "5d0674b5-c96f-4b58-8555-8a19d6774bf8"
      },
      "source": [
        "# My SQL query\n",
        "sql = \"\"\"\n",
        "SELECT *\n",
        "FROM New_York \n",
        "WHERE plaintiff_name == 'Sean Bell' \n",
        "OR plaintiff_name ==  'Eric Garner'\n",
        "OR plaintiff_name ==  'Akai Gurley'\n",
        "LIMIT 5\n",
        "\"\"\"\n",
        "\n",
        "# Read the sql query into pandas to view the results\n",
        "df = pd.read_sql_query(sql, engine)\n",
        "df.head()"
      ],
      "execution_count": 50,
      "outputs": [
        {
          "output_type": "stream",
          "name": "stdout",
          "text": [
            "2021-12-02 05:50:22,588 INFO sqlalchemy.engine.Engine \n",
            "SELECT *\n",
            "FROM New_York \n",
            "WHERE plaintiff_name == 'Sean Bell' \n",
            "OR plaintiff_name ==  'Eric Garner'\n",
            "OR plaintiff_name ==  'Akai Gurley'\n",
            "LIMIT 5\n",
            "\n",
            "2021-12-02 05:50:22,591 INFO sqlalchemy.engine.Engine [raw sql] ()\n"
          ]
        },
        {
          "output_type": "execute_result",
          "data": {
            "text/html": [
              "<div>\n",
              "<style scoped>\n",
              "    .dataframe tbody tr th:only-of-type {\n",
              "        vertical-align: middle;\n",
              "    }\n",
              "\n",
              "    .dataframe tbody tr th {\n",
              "        vertical-align: top;\n",
              "    }\n",
              "\n",
              "    .dataframe thead th {\n",
              "        text-align: right;\n",
              "    }\n",
              "</style>\n",
              "<table border=\"1\" class=\"dataframe\">\n",
              "  <thead>\n",
              "    <tr style=\"text-align: right;\">\n",
              "      <th></th>\n",
              "      <th>index</th>\n",
              "      <th>plaintiff_name</th>\n",
              "      <th>claim_number</th>\n",
              "      <th>summary_allegations</th>\n",
              "      <th>incident_date</th>\n",
              "      <th>filed_date</th>\n",
              "      <th>plaintiff_attorney</th>\n",
              "      <th>closed_date</th>\n",
              "      <th>amount_awarded</th>\n",
              "      <th>location</th>\n",
              "      <th>calendar_year</th>\n",
              "      <th>incident_year</th>\n",
              "      <th>filed_year</th>\n",
              "      <th>city</th>\n",
              "      <th>state</th>\n",
              "    </tr>\n",
              "  </thead>\n",
              "  <tbody>\n",
              "    <tr>\n",
              "      <th>0</th>\n",
              "      <td>1457</td>\n",
              "      <td>Sean Bell</td>\n",
              "      <td>2007PI024537</td>\n",
              "      <td>CIVIL RIGHTS CLAIMS</td>\n",
              "      <td>2006-11-25</td>\n",
              "      <td>2007-08-09</td>\n",
              "      <td>Rubenstein &amp; Rynecki</td>\n",
              "      <td>2010-07-27 00:00:00</td>\n",
              "      <td>3250000.0</td>\n",
              "      <td>143-08 94 ST KULUA CABARET, QUEENS</td>\n",
              "      <td>2010</td>\n",
              "      <td>2006.0</td>\n",
              "      <td>2007</td>\n",
              "      <td>New York City</td>\n",
              "      <td>NY</td>\n",
              "    </tr>\n",
              "    <tr>\n",
              "      <th>1</th>\n",
              "      <td>18741</td>\n",
              "      <td>Eric Garner</td>\n",
              "      <td>2014PI030575</td>\n",
              "      <td>PEACE OFFICER/POLICE ACTION (PI)</td>\n",
              "      <td>2014-07-17</td>\n",
              "      <td>2014-10-06</td>\n",
              "      <td>Beldock Levine &amp; Hoffman</td>\n",
              "      <td>2015-07-13 00:00:00</td>\n",
              "      <td>5900000.0</td>\n",
              "      <td>202 BAY ST, STATEN ISLAND (RICHMOND)</td>\n",
              "      <td>2015</td>\n",
              "      <td>2014.0</td>\n",
              "      <td>2014</td>\n",
              "      <td>New York City</td>\n",
              "      <td>NY</td>\n",
              "    </tr>\n",
              "    <tr>\n",
              "      <th>2</th>\n",
              "      <td>22540</td>\n",
              "      <td>Akai Gurley</td>\n",
              "      <td>2015PI002382</td>\n",
              "      <td>PEACE OFFICER/POLICE ACTION (PI)</td>\n",
              "      <td>2014-11-20</td>\n",
              "      <td>2015-01-29</td>\n",
              "      <td>Rubenstein &amp; Rynecki Esqs</td>\n",
              "      <td>2016-08-16 00:00:00</td>\n",
              "      <td>4100000.0</td>\n",
              "      <td>2632 LINDEN BL 7 &amp; 8 FL, BROOKLYN (KINGS)</td>\n",
              "      <td>2016</td>\n",
              "      <td>2014.0</td>\n",
              "      <td>2015</td>\n",
              "      <td>New York City</td>\n",
              "      <td>NY</td>\n",
              "    </tr>\n",
              "  </tbody>\n",
              "</table>\n",
              "</div>"
            ],
            "text/plain": [
              "   index plaintiff_name  claim_number  ... filed_year           city state\n",
              "0   1457      Sean Bell  2007PI024537  ...       2007  New York City    NY\n",
              "1  18741    Eric Garner  2014PI030575  ...       2014  New York City    NY\n",
              "2  22540    Akai Gurley  2015PI002382  ...       2015  New York City    NY\n",
              "\n",
              "[3 rows x 15 columns]"
            ]
          },
          "metadata": {},
          "execution_count": 50
        }
      ]
    },
    {
      "cell_type": "markdown",
      "metadata": {
        "id": "LiZEG16esdpW"
      },
      "source": [
        "### Who has a higher average amount awarded by calender year between NYC and Philly?"
      ]
    },
    {
      "cell_type": "code",
      "metadata": {
        "colab": {
          "base_uri": "https://localhost:8080/",
          "height": 329
        },
        "id": "V5faNud_8R7s",
        "outputId": "400082ab-dfa8-4910-fe61-8773780284bc"
      },
      "source": [
        "# My SQL query\n",
        "sql = \"\"\"\n",
        "SELECT ny.calendar_year, AVG(ny.amount_awarded) AS NYC_average_amount_awarded, AVG(ph.amount_awarded) AS PHILLY_average_amount_awarded\n",
        "FROM New_York ny \n",
        "JOIN Philly ph ON ny.calendar_year = ph.calendar_year\n",
        "Group By ny.calendar_year\n",
        "\"\"\"\n",
        "\n",
        "# Read the sql query into pandas to view the results\n",
        "df = pd.read_sql_query(sql, engine)\n",
        "df.head()"
      ],
      "execution_count": 59,
      "outputs": [
        {
          "output_type": "stream",
          "name": "stdout",
          "text": [
            "2021-12-02 06:04:17,141 INFO sqlalchemy.engine.Engine \n",
            "SELECT ny.calendar_year, AVG(ny.amount_awarded) AS NYC_average_amount_awarded, AVG(ph.amount_awarded) AS PHILLY_average_amount_awarded\n",
            "FROM New_York ny \n",
            "JOIN Philly ph ON ny.calendar_year = ph.calendar_year\n",
            "Group By ny.calendar_year\n",
            "\n",
            "2021-12-02 06:04:17,143 INFO sqlalchemy.engine.Engine [raw sql] ()\n"
          ]
        },
        {
          "output_type": "execute_result",
          "data": {
            "text/html": [
              "<div>\n",
              "<style scoped>\n",
              "    .dataframe tbody tr th:only-of-type {\n",
              "        vertical-align: middle;\n",
              "    }\n",
              "\n",
              "    .dataframe tbody tr th {\n",
              "        vertical-align: top;\n",
              "    }\n",
              "\n",
              "    .dataframe thead th {\n",
              "        text-align: right;\n",
              "    }\n",
              "</style>\n",
              "<table border=\"1\" class=\"dataframe\">\n",
              "  <thead>\n",
              "    <tr style=\"text-align: right;\">\n",
              "      <th></th>\n",
              "      <th>calendar_year</th>\n",
              "      <th>NYC_average_amount_awarded</th>\n",
              "      <th>PHILLY_average_amount_awarded</th>\n",
              "    </tr>\n",
              "  </thead>\n",
              "  <tbody>\n",
              "    <tr>\n",
              "      <th>0</th>\n",
              "      <td>2010</td>\n",
              "      <td>48811.706026</td>\n",
              "      <td>54801.430894</td>\n",
              "    </tr>\n",
              "    <tr>\n",
              "      <th>1</th>\n",
              "      <td>2011</td>\n",
              "      <td>34086.819360</td>\n",
              "      <td>71993.114609</td>\n",
              "    </tr>\n",
              "    <tr>\n",
              "      <th>2</th>\n",
              "      <td>2012</td>\n",
              "      <td>32033.229003</td>\n",
              "      <td>54678.857933</td>\n",
              "    </tr>\n",
              "    <tr>\n",
              "      <th>3</th>\n",
              "      <td>2013</td>\n",
              "      <td>27571.716328</td>\n",
              "      <td>108093.763651</td>\n",
              "    </tr>\n",
              "    <tr>\n",
              "      <th>4</th>\n",
              "      <td>2014</td>\n",
              "      <td>49429.956320</td>\n",
              "      <td>90210.825833</td>\n",
              "    </tr>\n",
              "  </tbody>\n",
              "</table>\n",
              "</div>"
            ],
            "text/plain": [
              "   calendar_year  NYC_average_amount_awarded  PHILLY_average_amount_awarded\n",
              "0           2010                48811.706026                   54801.430894\n",
              "1           2011                34086.819360                   71993.114609\n",
              "2           2012                32033.229003                   54678.857933\n",
              "3           2013                27571.716328                  108093.763651\n",
              "4           2014                49429.956320                   90210.825833"
            ]
          },
          "metadata": {},
          "execution_count": 59
        }
      ]
    },
    {
      "cell_type": "markdown",
      "metadata": {
        "id": "iwVnpgzVweet"
      },
      "source": [
        "## End SQL connection"
      ]
    },
    {
      "cell_type": "code",
      "metadata": {
        "id": "wIWOmd3lv-3A"
      },
      "source": [
        "# Close the database connection\n",
        "conn.close()"
      ],
      "execution_count": 60,
      "outputs": []
    }
  ]
}